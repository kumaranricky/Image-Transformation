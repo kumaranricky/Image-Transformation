{
 "cells": [
  {
   "cell_type": "code",
   "execution_count": 5,
   "id": "54a30bd8",
   "metadata": {},
   "outputs": [],
   "source": [
    "import cv2\n",
    "import numpy as np\n",
    "import matplotlib.pyplot as plt\n",
    "img=cv2.imread(\"naturekumaran.jpeg\")\n",
    "img=cv2.resize(img,(500,400))\n",
    "img=cv2.cvtColor(img,cv2.COLOR_BGR2RGB)\n",
    "cv2.imshow(\"title\",img)\n",
    "cv2.waitKey(0)\n",
    "cv2.destroyAllWindows()"
   ]
  },
  {
   "cell_type": "code",
   "execution_count": null,
   "id": "932af5a2",
   "metadata": {},
   "outputs": [],
   "source": [
    "# image translation"
   ]
  },
  {
   "cell_type": "code",
   "execution_count": 23,
   "id": "a1dbfa99",
   "metadata": {},
   "outputs": [],
   "source": [
    "import cv2\n",
    "import numpy as np\n",
    "import matplotlib.pyplot as plt\n",
    "img=cv2.imread(\"naturekumaran.jpeg\")\n",
    "img=cv2.resize(img,(500,400))\n",
    "img=cv2.cvtColor(img,cv2.COLOR_BGR2RGB)\n",
    "cv2.imshow(\"title\",img)\n",
    "cv2.waitKey(0)\n",
    "cv2.destroyAllWindows()\n",
    "rows,cols,dim=img.shape\n",
    "M=np.float32([[1,0,50],\n",
    "          [0,1,75],\n",
    "          [0,0,1]])\n",
    "translated_img=cv2.warpPerspective(img,M,(cols,rows))\n",
    "cv2.imshow(\"title\",translated_img)\n",
    "cv2.waitKey(0)\n",
    "cv2.destroyAllWindows()"
   ]
  },
  {
   "cell_type": "code",
   "execution_count": 8,
   "id": "8be2c3e1",
   "metadata": {},
   "outputs": [],
   "source": [
    "#image scaling"
   ]
  },
  {
   "cell_type": "code",
   "execution_count": 24,
   "id": "d8ec2b7f",
   "metadata": {},
   "outputs": [],
   "source": [
    "cv2.imshow(\"title\",img)\n",
    "cv2.waitKey(0)\n",
    "cv2.destroyAllWindows()\n",
    "rows,cols,dim=img.shape\n",
    "M=np.float32([[1.5,0,0],\n",
    "          [0,1.8,0],\n",
    "          [0,0,1]])\n",
    "scaled_img=cv2.warpPerspective(img,M,(cols,rows))\n",
    "cv2.imshow(\"title\",scaled_img)\n",
    "cv2.waitKey(0)\n",
    "cv2.destroyAllWindows()"
   ]
  },
  {
   "cell_type": "code",
   "execution_count": 10,
   "id": "7810c171",
   "metadata": {},
   "outputs": [],
   "source": [
    "# image shearing"
   ]
  },
  {
   "cell_type": "code",
   "execution_count": 27,
   "id": "c32a1c8a",
   "metadata": {},
   "outputs": [],
   "source": [
    "cv2.imshow(\"title\",img)\n",
    "cv2.waitKey(0)\n",
    "cv2.destroyAllWindows()\n",
    "rows,cols,dim=img.shape\n",
    "Mx=np.float32([[1,0.5,0],\n",
    "          [0,1,75],\n",
    "          [0,0,1]])\n",
    "My=np.float32([[1,0,0],\n",
    "              [0.5,1,0],\n",
    "               [0,0,1]])\n",
    "shx_img=cv2.warpPerspective(img,Mx,(int(cols),int(rows)))\n",
    "shy_img=cv2.warpPerspective(img,My,(int(cols),int(rows)))\n",
    "cv2.imshow(\"title1\",shx_img)\n",
    "cv2.imshow(\"title2\",shy_img)\n",
    "cv2.waitKey(0)\n",
    "cv2.destroyAllWindows()"
   ]
  },
  {
   "cell_type": "code",
   "execution_count": 7,
   "id": "1e89534a",
   "metadata": {},
   "outputs": [],
   "source": [
    "# image reflection"
   ]
  },
  {
   "cell_type": "code",
   "execution_count": 28,
   "id": "7b9ef57d",
   "metadata": {},
   "outputs": [],
   "source": [
    "cv2.imshow(\"title\",img)\n",
    "cv2.waitKey(0)\n",
    "cv2.destroyAllWindows()\n",
    "rows,cols,dim=img.shape\n",
    "Mx=np.float32([[1,0,0],\n",
    "          [0,-1,rows],\n",
    "          [0,0,1]])\n",
    "My=np.float32([[-1,0,cols],\n",
    "              [0,1,0],\n",
    "               [0,0,1]])\n",
    "refx_img=cv2.warpPerspective(img,Mx,(int(cols),int(rows)))\n",
    "refy_img=cv2.warpPerspective(img,My,(int(cols),int(rows)))\n",
    "cv2.imshow(\"title1\",refx_img)\n",
    "cv2.imshow(\"title2\",refy_img)\n",
    "cv2.waitKey(0)\n",
    "cv2.destroyAllWindows()"
   ]
  },
  {
   "cell_type": "code",
   "execution_count": 17,
   "id": "ce2aee80",
   "metadata": {},
   "outputs": [],
   "source": [
    "#image rotation\n"
   ]
  },
  {
   "cell_type": "code",
   "execution_count": 29,
   "id": "3279c94f",
   "metadata": {},
   "outputs": [],
   "source": [
    "cv2.imshow(\"title\",img)\n",
    "cv2.waitKey(0)\n",
    "cv2.destroyAllWindows()\n",
    "angle=np.radians(27)\n",
    "Rotation_matrix=np.float32([[np.cos(angle),-np.sin(angle),0],\n",
    "                                [np.sin(angle),np.cos(angle),0],\n",
    "                                [0,0,1]])\n",
    "rotimg=cv2.warpPerspective(img,Rotation_matrix,(int(cols),int(rows)))\n",
    "cv2.imshow(\"title1\",rotimg)\n",
    "cv2.waitKey(0)\n",
    "cv2.destroyAllWindows()\n"
   ]
  },
  {
   "cell_type": "code",
   "execution_count": null,
   "id": "85f1fae9",
   "metadata": {},
   "outputs": [],
   "source": []
  },
  {
   "cell_type": "code",
   "execution_count": null,
   "id": "0e145d45",
   "metadata": {},
   "outputs": [],
   "source": [
    "#image cropping"
   ]
  },
  {
   "cell_type": "code",
   "execution_count": 30,
   "id": "b041dcb1",
   "metadata": {},
   "outputs": [],
   "source": [
    "cv2.imshow(\"title\",img)\n",
    "cv2.waitKey(0)\n",
    "cv2.destroyAllWindows()\n",
    "cropimg=img[50:400,50:400]\n",
    "cv2.imshow(\"title1\",cropimg)\n",
    "cv2.waitKey(0)\n",
    "cv2.destroyAllWindows()"
   ]
  },
  {
   "cell_type": "code",
   "execution_count": null,
   "id": "067eb0db",
   "metadata": {},
   "outputs": [],
   "source": []
  },
  {
   "cell_type": "code",
   "execution_count": null,
   "id": "33417998",
   "metadata": {},
   "outputs": [],
   "source": []
  },
  {
   "cell_type": "code",
   "execution_count": null,
   "id": "36f8e4ca",
   "metadata": {},
   "outputs": [],
   "source": []
  }
 ],
 "metadata": {
  "kernelspec": {
   "display_name": "Python 3",
   "language": "python",
   "name": "python3"
  },
  "language_info": {
   "codemirror_mode": {
    "name": "ipython",
    "version": 3
   },
   "file_extension": ".py",
   "mimetype": "text/x-python",
   "name": "python",
   "nbconvert_exporter": "python",
   "pygments_lexer": "ipython3",
   "version": "3.8.8"
  }
 },
 "nbformat": 4,
 "nbformat_minor": 5
}
